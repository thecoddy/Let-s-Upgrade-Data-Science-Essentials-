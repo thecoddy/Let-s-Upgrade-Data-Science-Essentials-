{
  "nbformat": 4,
  "nbformat_minor": 0,
  "metadata": {
    "colab": {
      "name": "Day 3 Assignment.ipynb",
      "provenance": [],
      "collapsed_sections": []
    },
    "kernelspec": {
      "name": "python3",
      "display_name": "Python 3"
    }
  },
  "cells": [
    {
      "cell_type": "markdown",
      "metadata": {
        "id": "l-lvJgGVCT_d"
      },
      "source": [
        "## **Question - 1:**\n",
        "\n",
        "# Create a numpy array starting from 2 till 50 with a stepsize of 3."
      ]
    },
    {
      "cell_type": "code",
      "metadata": {
        "id": "0MtdHExjo3xj",
        "outputId": "71f2d09c-d6ce-4d58-e919-c0a15b7fb50b",
        "colab": {
          "base_uri": "https://localhost:8080/"
        }
      },
      "source": [
        "# importing numpy \n",
        "import numpy as np\n",
        "\n",
        "# creating a array using numpy arange\n",
        "arr = np.arange(2, 50, 3)\n",
        "\n",
        "# printing array\n",
        "print(arr)"
      ],
      "execution_count": 1,
      "outputs": [
        {
          "output_type": "stream",
          "text": [
            "[ 2  5  8 11 14 17 20 23 26 29 32 35 38 41 44 47]\n"
          ],
          "name": "stdout"
        }
      ]
    },
    {
      "cell_type": "markdown",
      "metadata": {
        "id": "Iuu9BcU6o7CH"
      },
      "source": [
        "## ** Question - 2**\n",
        "\n",
        "# Accept two lists of 5 elements each from the user. Convert them to numpy arrays. Concatenate these arrays and print it. Also sort these arrays and print it."
      ]
    },
    {
      "cell_type": "code",
      "metadata": {
        "id": "ZbVJG91lsw2x",
        "outputId": "a3917fd8-0a1f-40ad-db15-5d5dc05ded22",
        "colab": {
          "base_uri": "https://localhost:8080/"
        }
      },
      "source": [
        "# importing numpy \n",
        "import numpy as np\n",
        "\n",
        "# creating a 2 empty list:\n",
        "list_1 = []\n",
        "list_2 = []\n",
        "\n",
        "# for list_1 \n",
        "for i in range(5):\n",
        "  x=int(input(\"\\nEnter the value for list 1 : \"))\n",
        "  list_1.append(x)\n",
        "\n",
        "# for list_2 \n",
        "for i in range(5):\n",
        "  x=int(input(\"\\nEnter the value for list 2 : \"))\n",
        "  list_2.append(x)\n",
        "\n",
        "# list ->  array:\n",
        "array_1 = np.array(list_1)\n",
        "array_2 = np.array(list_2)\n",
        "\n",
        "# concatenate two arrays\n",
        "array = np.concatenate((array_1, array_2))\n",
        "print(\"\\nArray value for concatenated arr :\",array)\n",
        "\n",
        "# sorting up concatenated array\n",
        "sorted_array = np.sort(array)\n",
        "print(\"\\nSorted Array for concatenated arr :\",sorted_array)\n",
        "\n",
        "\n"
      ],
      "execution_count": 3,
      "outputs": [
        {
          "output_type": "stream",
          "text": [
            "\n",
            "Enter the value for list 1 : 1\n",
            "\n",
            "Enter the value for list 1 : 2\n",
            "\n",
            "Enter the value for list 1 : 3\n",
            "\n",
            "Enter the value for list 1 : 4\n",
            "\n",
            "Enter the value for list 1 : 5\n",
            "\n",
            "Enter the value for list 2 : 1\n",
            "\n",
            "Enter the value for list 2 : 2\n",
            "\n",
            "Enter the value for list 2 : 3\n",
            "\n",
            "Enter the value for list 2 : 4\n",
            "\n",
            "Enter the value for list 2 : 5\n",
            "\n",
            "Array value for concatenated arr : [1 2 3 4 5 1 2 3 4 5]\n",
            "\n",
            "Sorted Array for concatenated arr : [1 1 2 2 3 3 4 4 5 5]\n"
          ],
          "name": "stdout"
        }
      ]
    },
    {
      "cell_type": "markdown",
      "metadata": {
        "id": "LXS3gu0wgcJb"
      },
      "source": [
        "# ** Question - 3:**\n",
        "\n",
        "#### Write a code snippet to find the dimensions of a ndarray and its size."
      ]
    },
    {
      "cell_type": "code",
      "metadata": {
        "id": "A-mc68nxghPe",
        "outputId": "487e7009-80a7-4014-df52-1c2e44f86d0e",
        "colab": {
          "base_uri": "https://localhost:8080/"
        }
      },
      "source": [
        "# import numpy\n",
        "import numpy as np\n",
        "\n",
        "# created  2-d array\n",
        "array = np.array([[1,2,3],[1,3,5]])\n",
        "\n",
        "# Printing array dimensions \n",
        "print(\"\\nDimensions of array : \", array.ndim)\n",
        " \n",
        "# Printing size of array\n",
        "print(\"\\nSize of array : \", array.size)\n",
        "\n",
        "\n"
      ],
      "execution_count": 4,
      "outputs": [
        {
          "output_type": "stream",
          "text": [
            "\n",
            "Dimensions of array :  2\n",
            "\n",
            "Size of array :  6\n"
          ],
          "name": "stdout"
        }
      ]
    },
    {
      "cell_type": "code",
      "metadata": {
        "id": "-5C5Io-OkV0s"
      },
      "source": [
        ""
      ],
      "execution_count": null,
      "outputs": []
    },
    {
      "cell_type": "markdown",
      "metadata": {
        "id": "SUeCpqiIkK-b"
      },
      "source": [
        "## **Question - 4:**\n",
        "\n",
        "#### How to convert a 1D array into a 2D array? Demonstrate with the help of a code snippet\n",
        "##### Hint: np.newaxis, np.expand_dims"
      ]
    },
    {
      "cell_type": "code",
      "metadata": {
        "id": "9y52Rwh9hC5L",
        "outputId": "1597292b-3f6d-4233-88f1-886e7ab53c32",
        "colab": {
          "base_uri": "https://localhost:8080/"
        }
      },
      "source": [
        "# import numpy\n",
        "import numpy as np\n",
        "\n",
        "# created 1-d array\n",
        "array = np.arange(10)\n",
        "print(\"\\nShape of Array :\",array.shape)\n",
        "\n",
        "# converting using newaxis in row wise\n",
        "row_array = array[np.newaxis, :]\n",
        "print(\"\\nShape of 2d Array (ROW MAJOR) :\",row_array.shape)\n",
        "\n",
        "# converting using newaxis in column wise\n",
        "column_array = array[:, np.newaxis]\n",
        "print(\"\\nShape of 2d Array in (COLUMN MAJOR) :\",column_array.shape)\n"
      ],
      "execution_count": 5,
      "outputs": [
        {
          "output_type": "stream",
          "text": [
            "\n",
            "Shape of Array : (10,)\n",
            "\n",
            "Shape of 2d Array (ROW MAJOR) : (1, 10)\n",
            "\n",
            "Shape of 2d Array in (COLUMN MAJOR) : (10, 1)\n"
          ],
          "name": "stdout"
        }
      ]
    },
    {
      "cell_type": "markdown",
      "metadata": {
        "id": "WrQzooVRLcox"
      },
      "source": [
        "## **Question - 5:**\n",
        "\n",
        "#### Consider two square numpy arrays. Stack them vertically and horizontally.\n",
        "\n",
        "##### Hint: Use vstack(), hstack()"
      ]
    },
    {
      "cell_type": "code",
      "metadata": {
        "id": "yIvVbspoLkL3",
        "outputId": "202ea1be-72f2-4158-dd24-80924647d605",
        "colab": {
          "base_uri": "https://localhost:8080/"
        }
      },
      "source": [
        "# import numpy\n",
        "import numpy as np\n",
        "\n",
        "# creating a array with square values\n",
        "array_1 = np.square([1, 2, 3, 4, 5])\n",
        "array_2 = np.square([6, 7, 8, 9, 10])\n",
        "\n",
        "# stacking and printing the value\n",
        "print(\"\\nHorizontal Appended Array :\", np.hstack((array_1, array_2)))\n",
        "print(\"\\nVertical Appended Array :\", np.vstack((array_1, array_2)))\n",
        "\n"
      ],
      "execution_count": 6,
      "outputs": [
        {
          "output_type": "stream",
          "text": [
            "\n",
            "Horizontal Appended Array : [  1   4   9  16  25  36  49  64  81 100]\n",
            "\n",
            "Vertical Appended Array : [[  1   4   9  16  25]\n",
            " [ 36  49  64  81 100]]\n"
          ],
          "name": "stdout"
        }
      ]
    },
    {
      "cell_type": "markdown",
      "metadata": {
        "id": "RRj09BcYM22m"
      },
      "source": [
        "## **Question - 6:**\n",
        "\n",
        "##### How to get unique items and counts of unique items?\n",
        "\n"
      ]
    },
    {
      "cell_type": "code",
      "metadata": {
        "id": "D_L6jirvOIzZ",
        "outputId": "e4c6392c-c0a1-425b-d573-0fad19abcfae",
        "colab": {
          "base_uri": "https://localhost:8080/"
        }
      },
      "source": [
        "# import numpy\n",
        "import numpy as np\n",
        "\n",
        "# create a array \n",
        "array= np.array([1, 4, 9, 16, 25, 12, 40, 20, 3, 20, 50, 61, 50, 70, 70, 100])\n",
        "\n",
        "# unique charater and its count\n",
        "unique, counts = np.unique(array, return_counts=True)\n",
        "\n",
        "# making a \n",
        "new_array = np.asarray((unique, counts)).T\n",
        "\n",
        "print(new_array)\n"
      ],
      "execution_count": 7,
      "outputs": [
        {
          "output_type": "stream",
          "text": [
            "[[  1   1]\n",
            " [  3   1]\n",
            " [  4   1]\n",
            " [  9   1]\n",
            " [ 12   1]\n",
            " [ 16   1]\n",
            " [ 20   2]\n",
            " [ 25   1]\n",
            " [ 40   1]\n",
            " [ 50   2]\n",
            " [ 61   1]\n",
            " [ 70   2]\n",
            " [100   1]]\n"
          ],
          "name": "stdout"
        }
      ]
    }
  ]
}