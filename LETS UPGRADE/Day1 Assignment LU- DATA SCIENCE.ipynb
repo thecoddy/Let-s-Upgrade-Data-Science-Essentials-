{
  "nbformat": 4,
  "nbformat_minor": 0,
  "metadata": {
    "colab": {
      "name": "Day1_Assignment.ipynb",
      "provenance": [],
      "collapsed_sections": []
    },
    "kernelspec": {
      "name": "python3",
      "display_name": "Python 3"
    }
  },
  "cells": [
    {
      "cell_type": "markdown",
      "metadata": {
        "id": "CyMu3vD7K81Q"
      },
      "source": [
        "\n",
        "# **Question - 1**\n",
        "\n",
        "*Given the following jumbled word, OBANWRI guess the correct English word.*\n",
        "\n",
        "A. RANIBOW\n",
        "\n",
        "B. RAINBOW\n",
        "\n",
        "C. BOWRANI\n",
        "\n",
        "D. ROBWANI"
      ]
    },
    {
      "cell_type": "markdown",
      "metadata": {
        "id": "C6BqFIT0LHe_"
      },
      "source": [
        "\n",
        "# **Answer : B. RAINBOW**"
      ]
    },
    {
      "cell_type": "markdown",
      "metadata": {
        "id": "INjwlVZbNZTH"
      },
      "source": [
        "\n",
        "# **Question - 2**\n",
        "Write a program which prints “LETS UPGRADE”. (Please note that you have to print in ALL CAPS as given)"
      ]
    },
    {
      "cell_type": "code",
      "metadata": {
        "id": "gMp1Js8dNgRP",
        "outputId": "29ae5247-ad7c-4be7-b2fa-b532cf6098cf",
        "colab": {
          "base_uri": "https://localhost:8080/"
        }
      },
      "source": [
        "print(\"LETS UPGRADE\")"
      ],
      "execution_count": 1,
      "outputs": [
        {
          "output_type": "stream",
          "text": [
            "LETS UPGRADE\n"
          ],
          "name": "stdout"
        }
      ]
    },
    {
      "cell_type": "markdown",
      "metadata": {
        "id": "4CjiyvU4NuHk"
      },
      "source": [
        "\n",
        "# **Question - 3**\n",
        "Write a program that takes cost price and selling price as input and displays whether the transaction is a Profit or a Loss or Neither"
      ]
    },
    {
      "cell_type": "code",
      "metadata": {
        "id": "J-QNUf0INyus",
        "outputId": "5b6de362-460b-4c7d-ebd7-66e387dac6b7",
        "colab": {
          "base_uri": "https://localhost:8080/"
        }
      },
      "source": [
        "# Get Input from User - Cost Price and Selling Price\n",
        "CostPrice = int(input(\"Enter Cost Price : \"))\n",
        "SellingPrice = int(input(\"Enter Selling Price : \"))\n",
        "\n",
        "# Checking Profit or Loss Using if-elif-else\n",
        "if CostPrice<SellingPrice:\n",
        "    Profit = SellingPrice - Cost1Price\n",
        "    print(\"Congrats! You have Profit of : \",Profit)\n",
        "\n",
        "elif CostPrice>SellingPrice:\n",
        "    Loss =  CostPrice - SellingPrice\n",
        "    print(\"Sorry! You have Loss of : \",Loss)\n",
        "    \n",
        "else:\n",
        "    print(\"Neither Profit nor Loss\")"
      ],
      "execution_count": 7,
      "outputs": [
        {
          "output_type": "stream",
          "text": [
            "Enter Cost Price: 10\n",
            "Enter Selling Price: 10\n",
            "Neither Profit nor Loss\n"
          ],
          "name": "stdout"
        }
      ]
    },
    {
      "cell_type": "markdown",
      "metadata": {
        "id": "JsujqNFpP9bA"
      },
      "source": [
        "\n",
        "# **Question - 4**\n",
        "Write a program that takes an amount in Euros as input. You need to find its equivalent in Rupees and display it. Assume 1 Euro equals Rs. 80"
      ]
    },
    {
      "cell_type": "code",
      "metadata": {
        "id": "f8mRsFiaQGut",
        "outputId": "78b5688d-b29b-4387-8f08-134bc2a8e7d1",
        "colab": {
          "base_uri": "https://localhost:8080/"
        }
      },
      "source": [
        "# Taking Input from the User in Euros.\n",
        "euros = int(input(\"Enter amount in Euros : \"))\n",
        "\n",
        "# Converting the amount of Euros into the Rupees \n",
        "rupees = euros * 80\n",
        "\n",
        "# Displaying amount in Rupees\n",
        "print(\"Amout in Rupees : \",rupees)"
      ],
      "execution_count": 9,
      "outputs": [
        {
          "output_type": "stream",
          "text": [
            "Enter amount in Euros : 40\n",
            "Amout in Rupees :  3200\n"
          ],
          "name": "stdout"
        }
      ]
    }
  ]
}