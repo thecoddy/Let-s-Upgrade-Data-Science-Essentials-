{
  "nbformat": 4,
  "nbformat_minor": 0,
  "metadata": {
    "colab": {
      "name": "Day2_Assignment.ipynb",
      "provenance": [],
      "collapsed_sections": []
    },
    "kernelspec": {
      "name": "python3",
      "display_name": "Python 3"
    }
  },
  "cells": [
    {
      "cell_type": "markdown",
      "metadata": {
        "id": "wt8Gzo_gBwUD"
      },
      "source": [
        "\n",
        "# **Question - 1:**\n",
        "Create an empty list. Accept 10 numbers from the user and append to it the list if it is an even number."
      ]
    },
    {
      "cell_type": "code",
      "metadata": {
        "id": "o-KpoHgMBue-",
        "outputId": "ff811d0e-48f4-434f-8dd5-56695ff2bd45",
        "colab": {
          "base_uri": "https://localhost:8080/"
        }
      },
      "source": [
        "# creating a empty list\n",
        "newlist = []\n",
        "\n",
        "for i in range(0,10):\n",
        "    x = int(input(\"\\nEnter the value : \"))\n",
        "    if x % 2 == 0:\n",
        "      newlist.append(x)\n",
        "    \n",
        "print(newlist)"
      ],
      "execution_count": 34,
      "outputs": [
        {
          "output_type": "stream",
          "text": [
            "\n",
            "Enter the value : 1\n",
            "\n",
            "Enter the value : 2\n",
            "\n",
            "Enter the value : 3\n",
            "\n",
            "Enter the value : 4\n",
            "\n",
            "Enter the value : 5\n",
            "\n",
            "Enter the value : 6\n",
            "\n",
            "Enter the value : 7\n",
            "\n",
            "Enter the value : 8\n",
            "\n",
            "Enter the value : 9\n",
            "\n",
            "Enter the value : 10\n",
            "[2, 4, 6, 8, 10]\n"
          ],
          "name": "stdout"
        }
      ]
    },
    {
      "cell_type": "markdown",
      "metadata": {
        "id": "INjwlVZbNZTH"
      },
      "source": [
        "# **Question - 2**\n",
        "Create a notebook on LIST COMPREHENSION. This exercise is to put you in a Self learning mode"
      ]
    },
    {
      "cell_type": "code",
      "metadata": {
        "id": "gMp1Js8dNgRP",
        "outputId": "b302cb45-0551-4094-a340-b4c58d59f662",
        "colab": {
          "base_uri": "https://localhost:8080/"
        }
      },
      "source": [
        "# Create a List\n",
        "list = [5, 10, 15, 20, 25, 30, 35, 40, 45, 50]\n",
        "\n",
        "# list comprehensions newlist = [for loop condition]\n",
        "oddList = [i for i in list if i % 2 != 0 ]\n",
        "\n",
        "print(oddList)"
      ],
      "execution_count": 35,
      "outputs": [
        {
          "output_type": "stream",
          "text": [
            "[5, 15, 25, 35, 45]\n"
          ],
          "name": "stdout"
        }
      ]
    },
    {
      "cell_type": "markdown",
      "metadata": {
        "id": "4CjiyvU4NuHk"
      },
      "source": [
        "# **Question - 3:**\n",
        "Given a number n, you have to write a program that generates a dictionary d which contains (i, i*i), where i is from 1 to n (both included)."
      ]
    },
    {
      "cell_type": "code",
      "metadata": {
        "id": "J-QNUf0INyus",
        "outputId": "a1cc65be-6efc-4ab8-89a2-4705ee849bbf",
        "colab": {
          "base_uri": "https://localhost:8080/"
        }
      },
      "source": [
        "dict1 = {}\n",
        "\n",
        "#  getting value for \"n\" from user\n",
        "num = int(input())\n",
        "\n",
        "for i in range(1,num+1):\n",
        "  dict1[i] = i*i\n",
        "\n",
        "print(dict1)"
      ],
      "execution_count": 38,
      "outputs": [
        {
          "output_type": "stream",
          "text": [
            "4\n",
            "{1: 1, 2: 4, 3: 9, 4: 16}\n"
          ],
          "name": "stdout"
        }
      ]
    },
    {
      "cell_type": "markdown",
      "metadata": {
        "id": "1-f1KIKcGEtc"
      },
      "source": [
        "\n",
        "## **Question - 4:**\n",
        "Write a program to compute the distance between the current position after a sequence of movement and original point. If the distance is a float, then just print the nearest integer (use round() function for that and then convert it into an integer)."
      ]
    },
    {
      "cell_type": "code",
      "metadata": {
        "id": "DcBm7wiUGGL-"
      },
      "source": [
        ""
      ],
      "execution_count": null,
      "outputs": []
    }
  ]
}